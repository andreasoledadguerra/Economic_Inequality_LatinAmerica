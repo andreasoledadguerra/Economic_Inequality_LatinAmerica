{
 "cells": [
  {
   "cell_type": "markdown",
   "id": "43d307e2",
   "metadata": {},
   "source": [
    "# Economic Inequality in Latin America"
   ]
  },
  {
   "cell_type": "markdown",
   "id": "ccb1985b",
   "metadata": {},
   "source": [
    "### Trends in the Gini Index and its link to Average Income: Why are some Latin American Countries more unequal than others?"
   ]
  },
  {
   "cell_type": "markdown",
   "id": "41ee5522",
   "metadata": {},
   "source": []
  }
 ],
 "metadata": {
  "kernelspec": {
   "display_name": "env",
   "language": "python",
   "name": "python3"
  },
  "language_info": {
   "name": "python",
   "version": "3.10.12"
  }
 },
 "nbformat": 4,
 "nbformat_minor": 5
}
