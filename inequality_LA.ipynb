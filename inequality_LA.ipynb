{
 "cells": [
  {
   "cell_type": "markdown",
   "id": "43d307e2",
   "metadata": {},
   "source": [
    "# Economic Inequality in Latin America"
   ]
  },
  {
   "cell_type": "markdown",
   "id": "ccb1985b",
   "metadata": {},
   "source": [
    "### Trends in the Gini Index and its link to Average Income."
   ]
  },
  {
   "cell_type": "code",
   "execution_count": null,
   "id": "41ee5522",
   "metadata": {},
   "outputs": [],
   "source": [
    "import pandas as pd\n",
    "import matplotlib.pyplot as plt\n",
    "import geopandas as gpd\n",
    "import seaborn as sns\n",
    "import plotly.express as px\n",
    "from matplotlib.patches import Patch\n",
    "from matplotlib.lines import Line2D\n",
    "\n"
   ]
  },
  {
   "cell_type": "markdown",
   "id": "2ccd7cbb",
   "metadata": {},
   "source": [
    "### EDA"
   ]
  },
  {
   "cell_type": "code",
   "execution_count": null,
   "id": "ba9b607d",
   "metadata": {},
   "outputs": [],
   "source": [
    "# Exploring .csv files from https://data.worldbank.org/indicator/SI.POV.GINI?type=points&year=2019 \n",
    "\n",
    "df_1 = pd.read_csv(\"API_SI.POV.GINI_DS2_en_csv_v2_19376.csv\",\n",
    "                   delimiter=',',\n",
    "                    skiprows=4,\n",
    "                     engine='python')\n",
    "\n",
    "df_1"
   ]
  },
  {
   "cell_type": "code",
   "execution_count": null,
   "id": "63da0505",
   "metadata": {},
   "outputs": [],
   "source": [
    "df_2 = pd.read_csv(\"Metadata_Country_API_SI.POV.GINI_DS2_en_csv_v2_19376.csv\")\n",
    "df_2"
   ]
  },
  {
   "cell_type": "code",
   "execution_count": null,
   "id": "3a730054",
   "metadata": {},
   "outputs": [],
   "source": [
    "df_3 = pd.read_csv(\"Metadata_Indicator_API_SI.POV.GINI_DS2_en_csv_v2_19376.csv\")\n",
    "df_3"
   ]
  },
  {
   "cell_type": "code",
   "execution_count": null,
   "id": "86575577",
   "metadata": {},
   "outputs": [],
   "source": [
    "# Extract column 'Latin America & Caribbean' from the dataframe 'df_2'\n",
    "df_2[df_2['Region'] == 'Latin America & Caribbean']"
   ]
  },
  {
   "cell_type": "code",
   "execution_count": null,
   "id": "8fc14c39",
   "metadata": {},
   "outputs": [],
   "source": [
    "latinamerican_countries = df_2[df_2['Region'] == 'Latin America & Caribbean'] "
   ]
  },
  {
   "cell_type": "code",
   "execution_count": null,
   "id": "61244cfb",
   "metadata": {},
   "outputs": [],
   "source": [
    "latinamerican_countries_by_income = latinamerican_countries.groupby('IncomeGroup')"
   ]
  },
  {
   "cell_type": "code",
   "execution_count": null,
   "id": "4d0fef50",
   "metadata": {},
   "outputs": [],
   "source": [
    "latinamerican_countries_by_income.size()"
   ]
  },
  {
   "cell_type": "code",
   "execution_count": null,
   "id": "226b7107",
   "metadata": {},
   "outputs": [],
   "source": [
    "latinamerican_income_distribution = latinamerican_countries['IncomeGroup'].value_counts().to_dict()\n",
    "latinamerican_income_distribution\n",
    "\n",
    "#hacer un plot de esto (Income per region)"
   ]
  },
  {
   "cell_type": "markdown",
   "id": "ab08350f",
   "metadata": {},
   "source": [
    "### Data Visualization"
   ]
  },
  {
   "cell_type": "code",
   "execution_count": null,
   "id": "f93e8b07",
   "metadata": {},
   "outputs": [],
   "source": [
    "# Plot latinoamerican income distribution\n",
    "sns.set_style(\"whitegrid\")\n",
    "plt.figure(figsize=(10, 6))\n",
    "\n",
    "income_categories = list(latinamerican_income_distribution.keys())\n",
    "country_counts = list(latinamerican_income_distribution.values())\n",
    "\n",
    "colors = ['#9c6793', '#1170aa', '#57606c' ]\n",
    "\n",
    "bars = plt.bar(income_categories, country_counts, color= colors)\n",
    "\n",
    "for bar in bars:\n",
    "    height = bar.get_height()\n",
    "    plt.text(bar.get_x() + bar.get_width()/2., height + 0.5,\n",
    "             f'{height}', ha='center', va='bottom')\n",
    "    plt.title('Latin American Income Distribution', fontsize=15)\n",
    "    \n",
    "plt.xlabel('Income Group', fontsize=12)\n",
    "plt.ylabel('Number of countries', fontsize=12)\n",
    "\n",
    "plt.tight_layout()\n",
    "plt.show()"
   ]
  },
  {
   "cell_type": "code",
   "execution_count": null,
   "id": "4953ced1",
   "metadata": {},
   "outputs": [],
   "source": [
    "latinamerican_countries_by_income['TableName'].apply(list)"
   ]
  },
  {
   "cell_type": "code",
   "execution_count": null,
   "id": "c7a7556e",
   "metadata": {},
   "outputs": [],
   "source": [
    "latinamerican_countries_by_income_to_dict = latinamerican_countries_by_income['TableName'].apply(list).to_dict()\n",
    "latinamerican_countries_by_income_to_dict"
   ]
  },
  {
   "cell_type": "code",
   "execution_count": null,
   "id": "7652a889",
   "metadata": {},
   "outputs": [],
   "source": [
    "latam_high_income = latinamerican_countries_by_income_to_dict['High income']\n",
    "latam_upper_middle_income = latinamerican_countries_by_income_to_dict['Upper middle income']\n",
    "latam_lower_middle_income = latinamerican_countries_by_income_to_dict['Lower middle income']"
   ]
  },
  {
   "cell_type": "code",
   "execution_count": 42,
   "id": "782ac41c",
   "metadata": {},
   "outputs": [
    {
     "data": {
      "text/plain": [
       "['Aruba',\n",
       " 'Antigua and Barbuda',\n",
       " 'Bahamas, The',\n",
       " 'Barbados',\n",
       " 'Chile',\n",
       " 'Curaçao',\n",
       " 'Cayman Islands',\n",
       " 'Guyana',\n",
       " 'St. Kitts and Nevis',\n",
       " 'St. Martin (French part)',\n",
       " 'Panama',\n",
       " 'Puerto Rico',\n",
       " 'Sint Maarten (Dutch part)',\n",
       " 'Turks and Caicos Islands',\n",
       " 'Trinidad and Tobago',\n",
       " 'Uruguay',\n",
       " 'British Virgin Islands',\n",
       " 'Virgin Islands (U.S.)']"
      ]
     },
     "execution_count": 42,
     "metadata": {},
     "output_type": "execute_result"
    }
   ],
   "source": [
    "latam_high_income"
   ]
  },
  {
   "cell_type": "code",
   "execution_count": 40,
   "id": "1f72141f",
   "metadata": {},
   "outputs": [
    {
     "data": {
      "text/plain": [
       "list"
      ]
     },
     "execution_count": 40,
     "metadata": {},
     "output_type": "execute_result"
    }
   ],
   "source": [
    "type(latam_high_income)"
   ]
  },
  {
   "cell_type": "code",
   "execution_count": null,
   "id": "73b65dc4",
   "metadata": {},
   "outputs": [],
   "source": [
    "latam_income_by_group = [latam_high_income, latam_upper_middle_income, latam_lower_middle_income]\n"
   ]
  },
  {
   "cell_type": "code",
   "execution_count": 41,
   "id": "1a336dbd",
   "metadata": {},
   "outputs": [
    {
     "data": {
      "text/plain": [
       "str"
      ]
     },
     "execution_count": 41,
     "metadata": {},
     "output_type": "execute_result"
    }
   ],
   "source": [
    "type(latam_income_by_group)"
   ]
  },
  {
   "cell_type": "code",
   "execution_count": null,
   "id": "72c71328",
   "metadata": {},
   "outputs": [],
   "source": []
  },
  {
   "cell_type": "code",
   "execution_count": null,
   "id": "270adb8d",
   "metadata": {},
   "outputs": [],
   "source": [
    "# Plotting Latino American income groups on the world map\n",
    "\n",
    "world = gpd.read_file('https://naciscdn.org/naturalearth/110m/cultural/ne_110m_admin_0_countries.zip')\n",
    "\n",
    "#Checking columns from the dataframe 'world'\n",
    "print(world.columns)\n",
    "# Detecting column of the code country\n",
    "iso_column = 'ISO_A3'\n",
    "\n",
    "# merging data for plot\n",
    "merged_data = world.merge(latinamerican_countries, \n",
    "                          left_on=iso_column, \n",
    "                          right_on='Country Code', \n",
    "                          how='left')\n",
    "# Subset data to Latin America and the Caribbean \n",
    "latam = merged_data[merged_data['Region'] == 'Latin America & Caribbean']\n",
    "\n",
    "# Plot the world as a light gray background \n",
    "fig, ax = plt.subplots(1, 1, figsize=(15, 10))\n",
    "\n",
    "world.plot(ax=ax, color='lightgray', edgecolor='white', linewidth=0.5)\n",
    "\n",
    "# Visualize Latin American countries, color-coded by income group\n",
    "colors = {\n",
    "    'High income': '#1170aa',       # Azul fuerte\n",
    "    'Upper middle income': '#9c6793', # ciruela claro\n",
    "    'Lower middle income': '#57606c'  # Gris oscuro\n",
    "}\n",
    "# Check if countries belong to the income group and plot only those that do\n",
    "for income_group, color in colors.items():\n",
    "    countries_in_group = latam[latam['IncomeGroup'] == income_group]\n",
    "    if not countries_in_group.empty:\n",
    "        countries_in_group.plot(\n",
    "            ax=ax, \n",
    "            color=color, \n",
    "            edgecolor='white', \n",
    "            linewidth=0.8\n",
    "        )\n",
    "\n",
    "# Customizing plot\n",
    "ax.set_title('Income Stratification in Latin America and the Caribbean', fontsize=16)\n",
    "ax.set_axis_off()\n",
    "\n",
    "legend_elements = [\n",
    "    Patch(facecolor='#1170aa', edgecolor='white', label='High Income'),\n",
    "    Patch(facecolor='#9c6793', edgecolor='white', label='Upper Middle Income'),\n",
    "    Patch(facecolor='#57606c', edgecolor='white', label='Lower Middle Income')\n",
    "]\n",
    "ax.legend(handles=legend_elements, loc='lower left', frameon=True, framealpha=0.9)\n",
    "\n",
    "plt.tight_layout()\n",
    "plt.savefig('latinamerica_income_map.png', dpi=300, bbox_inches='tight')\n",
    "plt.show()"
   ]
  }
 ],
 "metadata": {
  "kernelspec": {
   "display_name": "env",
   "language": "python",
   "name": "python3"
  },
  "language_info": {
   "codemirror_mode": {
    "name": "ipython",
    "version": 3
   },
   "file_extension": ".py",
   "mimetype": "text/x-python",
   "name": "python",
   "nbconvert_exporter": "python",
   "pygments_lexer": "ipython3",
   "version": "3.10.12"
  }
 },
 "nbformat": 4,
 "nbformat_minor": 5
}
